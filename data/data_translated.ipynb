{
 "cells": [
  {
   "cell_type": "code",
   "execution_count": 6,
   "metadata": {},
   "outputs": [
    {
     "name": "stdout",
     "output_type": "stream",
     "text": [
      "Columns after renaming: Index(['Name', 'x1', 'x2', 'y1', 'y2', 'width', 'noise', 'Comments',\n",
      "       'Sentiment Score'],\n",
      "      dtype='object')\n"
     ]
    }
   ],
   "source": [
    "import pandas as pd\n",
    "\n",
    "# Define the mapping dictionaries\n",
    "response_mapping = {\n",
    "    'Strongly disagree': 100,\n",
    "    'Disagree': 200,\n",
    "    'Neither agree nor disagree': 300,\n",
    "    'Agree': 400,\n",
    "    'Strongly agree': 500\n",
    "}\n",
    "\n",
    "width_mapping = {\n",
    "    'Strongly disagree': 1,\n",
    "    'Disagree': 2,\n",
    "    'Neither agree nor disagree': 3,\n",
    "    'Agree': 4,\n",
    "    'Strongly agree': 5\n",
    "}\n",
    "\n",
    "noise_mapping = {\n",
    "    'Strongly disagree': 0.0,\n",
    "    'Disagree': 0.25,\n",
    "    'Neither agree nor disagree': 0.5,\n",
    "    'Agree': 0.75,\n",
    "    'Strongly agree': 1.0\n",
    "}\n",
    "\n",
    "# Function to map sentiment score to 0-359\n",
    "def map_sentiment_to_color(value):\n",
    "    return abs(value) * 359\n",
    "\n",
    "# Function to create the '+ or -' column\n",
    "def create_plus_minus(value):\n",
    "    return 100 if value > 0 else 70\n",
    "\n",
    "# Load the CSV file\n",
    "df = pd.read_csv('wellbeing_survey.csv')\n",
    "\n",
    "# Rename columns\n",
    "df = df.rename(columns={\n",
    "    'I felt happy.': 'x1',\n",
    "    'I felt engaged.': 'x2',\n",
    "    'I felt comfortable.': 'y1',\n",
    "    'I felt safe and secure.': 'y2',\n",
    "    'I enjoyed the company of other people.': 'width',\n",
    "    'I talked to other people.': 'noise'\n",
    "})\n",
    "\n",
    "# Print columns to debug\n",
    "print(\"Columns after renaming:\", df.columns)\n",
    "\n",
    "# Map responses to numeric values\n",
    "df['x1'] = df['x1'].map(response_mapping)\n",
    "df['x2'] = df['x2'].map(response_mapping)\n",
    "df['y1'] = df['y1'].map(response_mapping)\n",
    "df['y2'] = df['y2'].map(response_mapping)\n",
    "df['width'] = df['width'].map(width_mapping)\n",
    "df['noise'] = df['noise'].map(noise_mapping)\n",
    "\n",
    "# Add the \"color\" column by mapping sentiment score to color values (0-359)\n",
    "df['color'] = df['Sentiment Score'].apply(map_sentiment_to_color)\n",
    "\n",
    "# Create the '+ or -' column\n",
    "df['+ or -'] = df['Sentiment Score'].apply(create_plus_minus)\n",
    "\n",
    "# Drop the Name and Comments columns\n",
    "df = df.drop(columns=['Name', 'Comments'])\n",
    "\n",
    "# Save the transformed DataFrame to a new CSV file\n",
    "df.to_csv('transformed_file.csv', index=False)"
   ]
  }
 ],
 "metadata": {
  "kernelspec": {
   "display_name": "Python 3",
   "language": "python",
   "name": "python3"
  },
  "language_info": {
   "codemirror_mode": {
    "name": "ipython",
    "version": 3
   },
   "file_extension": ".py",
   "mimetype": "text/x-python",
   "name": "python",
   "nbconvert_exporter": "python",
   "pygments_lexer": "ipython3",
   "version": "3.12.1"
  }
 },
 "nbformat": 4,
 "nbformat_minor": 2
}
